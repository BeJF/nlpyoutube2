{
 "cells": [
  {
   "cell_type": "code",
   "execution_count": 30,
   "metadata": {},
   "outputs": [],
   "source": [
    "import nltk\n",
    "from nltk.tokenize import sent_tokenize, word_tokenize\n",
    "#from nltk.corpus import stopwords\n",
    "#from nltk.stem import PorterStemmer\n",
    "from sklearn.feature_extraction.text import CountVectorizer\n",
    "from sklearn.feature_extraction.text import TfidfTransformer\n",
    "from sklearn.feature_extraction.text import TfidfVectorizer\n",
    "import matplotlib.pyplot as plt\n",
    "import pandas as pd\n",
    "import re"
   ]
  },
  {
   "cell_type": "code",
   "execution_count": 31,
   "metadata": {},
   "outputs": [],
   "source": [
    "with open(\"comments.txt\", \"r\") as f :\n",
    "    all_comments=f.read().splitlines()"
   ]
  },
  {
   "cell_type": "code",
   "execution_count": 32,
   "metadata": {},
   "outputs": [
    {
     "name": "stdout",
     "output_type": "stream",
     "text": [
      "['Even the battery on S10e can hold longer than XS Max.... Whaddup?', 'does it have dex', 'Processor ?', 'Id get the s10 or s10+ if they were available on boost mobile', 'In my country the s10e is 500dolar😂', '750 bucks I think that anybody and I mean anybody that would give more than $300 for a phone  is nothing more than a damned idiot and nothing more than cash cows for the phone companies', '1:14 \"Flagships are like $900,000\" I think you were ment to say $900', 'The \"e\" stands for essentials @MKBHD', 'is that a toothless the dragon from how to train your dragon hoodie', 'I\\'ve figured out why I don\\'t like MKBHD. He has this low key god-maker arrogance. He has been so spoiled with the access he has to products that he shrugs off a $750 technological marvel and says, \"eh, why not?\"']\n"
     ]
    }
   ],
   "source": [
    "print(all_comments[0:10])"
   ]
  },
  {
   "cell_type": "code",
   "execution_count": 33,
   "metadata": {},
   "outputs": [
    {
     "name": "stdout",
     "output_type": "stream",
     "text": [
      "[(0, 444), (22, 142), (25, 141), (18, 134), (15, 132), (16, 129), (26, 127), (23, 126), (19, 123), (29, 123)]\n"
     ]
    },
    {
     "data": {
      "image/png": "[encoded data removed]",
      "text/plain": [
       "<Figure size 432x288 with 1 Axes>"
      ]
     },
     "metadata": {
      "needs_background": "light"
     },
     "output_type": "display_data"
    }
   ],
   "source": [
    "lengths_comments = [len(comment) for comment in all_comments]\n",
    "\n",
    "distribution1 = nltk.FreqDist(lengths_comments)\n",
    "print(distribution1.most_common(10))\n",
    "\n",
    "plt.hist(lengths_comments, 50, facecolor='green')\n",
    "plt.show()"
   ]
  },
  {
   "cell_type": "markdown",
   "metadata": {},
   "source": [
    "## Let's analyze the content of the comments in function of their lengths :"
   ]
  },
  {
   "cell_type": "code",
   "execution_count": 34,
   "metadata": {},
   "outputs": [
    {
     "name": "stdout",
     "output_type": "stream",
     "text": [
      "wallpaper \n",
      "\n",
      "Have* \n",
      "\n",
      " \n",
      "\n",
      " \n",
      "\n",
      " \n",
      "\n",
      " \n",
      "\n",
      "Nice \n",
      "\n",
      "one word \n",
      "\n",
      " \n",
      "\n"
     ]
    }
   ],
   "source": [
    "nb_comments = 0 \n",
    "for comment in all_comments :\n",
    "    length_comment = len(comment)\n",
    "    if length_comment < 10 :\n",
    "        nb_comments += 1\n",
    "        if nb_comments < 10 :\n",
    "            print(comment, \"\\n\")"
   ]
  },
  {
   "cell_type": "code",
   "execution_count": 35,
   "metadata": {},
   "outputs": [
    {
     "name": "stdout",
     "output_type": "stream",
     "text": [
      "Romans 3:23 states: \"For all have sinned, and come short of the glory of God;\". We are all sinners, that have committed at least one sin in our lives, which earns us an eternal punishment in Hell. Revelation states 21:8 \"But the fearful, and unbelieving, and the abominable, and murderers, and whoremongers, and sorcerers, and idolaters, and all liars, shall have their part in the lake which burneth with fire and brimstone: which is the second death.\". God sent his Son, Jesus, to Earth as a perfect sinless sacrifice. To take on all the sins of the world; both past, present, and future sins. Shedding his blood on the cross as a blood atonement for all sins. After dying on the cross, he rose from the dead on the 3rd day and rose to Heaven. To show life after death. To show everlasting life through Jesus's sacrifice. John 14:6 states: \"Jesus saith unto him, I am the way, the truth, and the life: no man cometh unto the Father, but by me.\". Romans 10:13 states \"For whosoever shall call upon the name of the Lord shall be saved.\".  \n",
      "\n",
      "   Eternal life in heaven is just one prayer away. All you have to do is believe that Jesus Christ, the Son of God, died on the cross for your sins. As an atonement for your sins. And rose from the grave on the 3rd day. Ask Jesus to save you of your sins and give you eternal life in Heaven. Salvation is a free and everlasting gift from God. Please don't let pride drag you into eternal punishment in Hell, but ask Jesus to give you eternal life in Heaven. If you're getting a strong feeling of resistance while reading this, it's because Satan doesn't want you to get saved. He wants you to resist, and think it's not real. He wants you in Hell for all eternity with him. Hell is not a fun place, like worldly people like to imagine. It's everlasting torture with no relief. I'm only taking the time to text this, because I want to get the message out. There are so many distractions in life keeping people from witnessing to other people. Keeping people from thinking about salvation. Keeping people from thinking about life after death. Please, ask Jesus into your hearts to save you of your sins and cleanse you from all unrighteous. Ask him for a place in Heaven, and he will save you from eternal damnation in Hell. \n",
      "\n",
      "E Stands For EEEEEEEEEEEEEEEEEEEEEEEEEEEEEEEEEEEEEEEEEE EEEEEEEEEEEEEEEEEEEEEEEEEEEEEEEEEEEEEEEEEE EEEEEEEEEEEEEEEEEEEEEEEEEEEEEEEEEEEEEEEEEE EEEEEEEEEEEEEEEEEEEEEEEEEEEEEEEEEEEEEEEEEE EEEEEEEEEEEEEEEEEEEEEEEEEEEEEEEEEEEEEEEEEE EEEEEEEEEEEEEEEEEEEEEEEEEEEEEEEEEEEEEEEEEE EEEEEEEEEEEEEEEEEEEEEEEEEEEEEEEEEEEEEEEEEE EEEEEEEEEEEEEEEEEEEEEEEEEEEEEEEEEEEEEEEEEE EEEEEEEEEEEEEEEEEEEEEEEEEEEEEEEEEEEEEEEEEE EEEEEEEEEEEEEEEEEEEEEEEEEEEEEEEEEEEEEEEEEE EEEEEEEEEEEEEEEEEEEEEEEEEEEEEEEEEEEEEEEEEE EEEEEEEEEEEEEEEEEEEEEEEEEEEEEEEEEEEEEEEEEE EEEEEEEEEEEEEEEEEEEEEEEEEEEEEEEEEEEEEEEEEE EEEEEEEEEEEEEEEEEEEEEEEEEEEEEEEEEEEEEEEEEE EEEEEEEEEEEEEEEEEEEEEEEEEEEEEEEEEEEEEEEEEE EEEEEEEEEEEEEEEEEEEEEEEEEEEEEEEEEEEEEEEEEE EEEEEEEEEEEEEEEEEEEEEEEEEEEEEEEEEEEEEEEEEE EEEEEEEEEEEEEEEEEEEEEEEEEEEEEEEEEEEEEEEEEE EEEEEEEEEEEEEEEEEEEEEEEEEEEEEEEEEEEEEEEEEE EEEEEEEEEEEEEEEEEEEEEEEEEEEEEEEEEEEEEEEEEE EEEEEEEEEEEEEEEEEEEEEEEEEEEEEEEEEEEEEEEEEE EEEEEEEEEEEEEEEEEEEEEEEEEEEEEEEEEEEEEEEEEE EEEEEEEEEEEEEEEEEEEEEEEEEEEEEEEEEEEEEEEEEE EEEEEEEEEEEEEEEEEEEEEEEEEEEEEEEEEEEEEEEEEE EEEEEEEEEEEEEEEEEEEEEEEEEEEEEEEEEEEEEEEEEE EEEEEEEEEEEEEEEEEEEEEEEEEEEEEEEEEEEEEEEEEE EEEEEEEEEEEEEEEEEEEEEEEEEEEEEEEEEEEEEEEEEE EEEEEEEEEEEEEEEEEEEEEEEEEEEEEEEEEEEEEEEEEE EEEEEEEEEEEEEEEEEEEEEEEEEEEEEEEEEEEEEEEEEE EEEEEEEEEEEEEEEEEEEEEEEEEEEEEEEEEEEEEEEEEE EEEEEEEEEEEEEEEEEEEEEEEEEEEEEEEEEEEEEEEEEE EEEEEEEEEEEEEEEEEEEEEEEEEEEEEEEEEEEEEEEEEE EEEEEEEEEEEEEEEEEEEEEEEEEEEEEEEEEEEEEEEEEE EEEEEEEEEEEEEEEEEEEEEEEEEEEEEEEEEEEEEEEEEE EEEEEEEEEEEEEEEEEEEEEEEEEEEEEEEEEEEEEEEEEE EEEEEEEEEEEEEEEEEEEEEEEEEEEEEEEEEEEEEEEEEE EEEEEEEEEEEEEEEEEEEEEEEEEEEEEEEEEEEEEEEEEE EEEEEEEEEEEEEEEEEEEEEEEEEEEEEEEEEEEEEEEEEE EEEEEEEEEEEEEEEEEEEEEEEEEEEEEEEEEEEEEEEEEE EEEEEEEEEEEEEEEEEEEEEEEEEEEEEEEEEEEEEEEEEE EEEEEEEEEEEEEEEEEEEEEEEEEEEEEEEEEEEEEEEEEE EEEEEEEEEEEEEEEEEEEEEEEEEEEEEEEEEEEEEEEEEE EEEEEEEEEEEEEEEEEEEEEEEEEEEEEEEEEEEEEEEEEE EEEEEEEEEEEEEEEEEEEEEEEEEEEEEEEEEEEEEEEEEE EEEEEEEEEEEEEEEEEEEEEEEEEEEEEEEEEEEEEEEEEE EEEEEEEEEEEEEEEEEEEEEEEEEEEEEEEEEEEEEEEEEE EEEEEEEEEEEEEEEEEEEEEEEEEEEEEEEEEEEEEEEEEE EEEEEEEEEEEEEEEEEEEEEEEEEEEEEEEEEEEEEEEEEE EEEEEEEEEEEEEEEEEEEEEEEEEEEEEEEEEEEEEEEEEE EEEEEEEEEEEEEEEEEEEEEEEEEEEEEEEEEEEEEEEEEE EEEEEEEEEEEEEEEEEEEEEEEEEEEEEEEEEEEEEEEEEE EEEEEEEEEEEEEEEEEEEEEEEEEEEEEEEEEEEEEEEEEE EEEEEEEEEEEEEEEEEEEEEEEEEEEEEEEEEEEEEEEEEE EEEEEEEEEEEEEEEEEEEEEEEEEEEEEEEEEEEEEEEEEE EEEEEEEEEEEEEEEEEEEEEEEEEEEEEEEEEEEEEEEEEE EEEEEEEEEEEEEEEEEEEEEEEEEEEEEEEEEEEEEEEEEE EEEEEEEEEEEEEEEEEEEEEEEEEEEEEEEEEEEEEEEEEE EEEEEEEEEEEEEEEEEEEEEEEEEEEEEEEEEEEEEEEEEE EEEEEEEEEEEEEEEEEEEEEEEEEEEEEEEEEEEEEEEEEE EEEEEEEEEEEEEEEEEEEEEEEEEEEEEEEEEEEEEEEEEE \n",
      "\n"
     ]
    }
   ],
   "source": [
    "for comment in all_comments :\n",
    "    length_comment = len(comment)\n",
    "    if length_comment > 1000 :\n",
    "        nb_comments += 1\n",
    "        print(comment, \"\\n\")"
   ]
  },
  {
   "cell_type": "code",
   "execution_count": 36,
   "metadata": {},
   "outputs": [
    {
     "name": "stdout",
     "output_type": "stream",
     "text": [
      "At least 828 shitty comments out of 8105 total.\n"
     ]
    }
   ],
   "source": [
    "print(\"At least\", nb_comments, \"shitty comments out of\", len(all_comments), \"total.\")"
   ]
  },
  {
   "cell_type": "markdown",
   "metadata": {},
   "source": [
    "## Let's already make a first clean on the comments :"
   ]
  },
  {
   "cell_type": "code",
   "execution_count": 37,
   "metadata": {},
   "outputs": [],
   "source": [
    "for comment in all_comments :\n",
    "    length_comment = len(comment)\n",
    "    if length_comment < 10 or length_comment > 1000:\n",
    "        all_comments.remove(comment)"
   ]
  },
  {
   "cell_type": "code",
   "execution_count": 38,
   "metadata": {},
   "outputs": [
    {
     "name": "stdout",
     "output_type": "stream",
     "text": [
      "7473\n"
     ]
    }
   ],
   "source": [
    "print(len(all_comments))"
   ]
  },
  {
   "cell_type": "code",
   "execution_count": 39,
   "metadata": {},
   "outputs": [
    {
     "name": "stdout",
     "output_type": "stream",
     "text": [
      "[(22, 142), (25, 141), (0, 136), (18, 134), (15, 132), (16, 129), (26, 127), (23, 126), (19, 123), (29, 123)]\n"
     ]
    },
    {
     "data": {
      "image/png": "[encoded data removed]",
      "text/plain": [
       "<Figure size 432x288 with 1 Axes>"
      ]
     },
     "metadata": {
      "needs_background": "light"
     },
     "output_type": "display_data"
    }
   ],
   "source": [
    "lengths_comments = [len(comment) for comment in all_comments]\n",
    "\n",
    "distribution1 = nltk.FreqDist(lengths_comments)\n",
    "print(distribution1.most_common(10))\n",
    "\n",
    "plt.hist(lengths_comments, 50, facecolor='green')\n",
    "plt.show()"
   ]
  },
  {
   "cell_type": "markdown",
   "metadata": {},
   "source": [
    "Have to know:\n",
    "The numbers of sentences by comment.\n",
    "The numbers of words by sentence.\n",
    "the numbers of words by comment."
   ]
  },
  {
   "cell_type": "markdown",
   "metadata": {},
   "source": [
    "## Let's make a list of lemmatized sentences :"
   ]
  },
  {
   "cell_type": "code",
   "execution_count": 40,
   "metadata": {},
   "outputs": [],
   "source": [
    "# from nltk.stem import PorterStemmer\n",
    "# porter=PorterStemmer()\n",
    "\n",
    "# stemmed_sentences = []\n",
    "\n",
    "# for comment in all_comments :\n",
    "#     sentences = nltk.sent_tokenize(comment)\n",
    "#     for sentence in sentences :\n",
    "#         filtered_words = []\n",
    "#         words = nltk.word_tokenize(sentence)\n",
    "#         for word in words :\n",
    "#             if re.search('[a-zA-Z$1-9]', word):\n",
    "#                 filtered_words.append(word)\n",
    "#         stemmed_words = [porter.stem(word) for word in filtered_words]\n",
    "#         stemmed_sent = \" \".join(stemmed_words)\n",
    "#         if len(stemmed_sent) > 10 and len(stemmed_sent) < 100:\n",
    "#             stemmed_sentences.append(stemmed_sent)"
   ]
  },
  {
   "cell_type": "code",
   "execution_count": 41,
   "metadata": {},
   "outputs": [],
   "source": [
    "from nltk.stem import WordNetLemmatizer\n",
    "lemmatizer = WordNetLemmatizer()\n",
    "\n",
    "lem_sentences = []\n",
    "\n",
    "for comment in all_comments :\n",
    "    sentences = nltk.sent_tokenize(comment)\n",
    "    for sentence in sentences :\n",
    "        filtered_words = []\n",
    "        words = nltk.word_tokenize(sentence)\n",
    "        for word in words :\n",
    "            if re.search('[a-zA-Z$1-9]', word):\n",
    "                filtered_words.append(word)\n",
    "        lem_words = [lemmatizer.lemmatize(word) for word in filtered_words]\n",
    "        lem_sent = \" \".join(lem_words)\n",
    "        if len(lem_sent) > 10 and len(lem_sent) < 100:\n",
    "            lem_sentences.append(lem_sent)"
   ]
  },
  {
   "cell_type": "code",
   "execution_count": 42,
   "metadata": {},
   "outputs": [
    {
     "name": "stdout",
     "output_type": "stream",
     "text": [
      "['Even the battery on S10e can hold longer than XS Max Whaddup', 'doe it have dex', 'Id get the s10 or s10+ if they were available on boost mobile', 'In my country the s10e is 500dolar😂', '1:14 Flagships are like $ 900,000 I think you were ment to say $ 900', 'The e stand for essential MKBHD', 'is that a toothless the dragon from how to train your dragon hoodie', \"I 've figured out why I do n't like MKBHD\", 'He ha this low key god-maker arrogance', \"love this phone it 's so cute\", 'I hope I can get it', 'e stand for economy', 'who here is in love with baymax', 'Dope wallpaper', 'I bought this last week very happy with it', 'Is this guy from New Jersey', 'That big hero 6 wallpaper fit so well for the hole punch camera', 'E could be for elite', 'Holy shit I am getting it for the wallpaper', 'That is the smartest wallpaper lmao']\n"
     ]
    }
   ],
   "source": [
    "print(lem_sentences[:20])"
   ]
  },
  {
   "cell_type": "code",
   "execution_count": 43,
   "metadata": {},
   "outputs": [
    {
     "name": "stdout",
     "output_type": "stream",
     "text": [
      "[(4, 926), (5, 899), (6, 781), (3, 754), (7, 695), (8, 595), (9, 546), (2, 519), (10, 516), (11, 445)]\n"
     ]
    },
    {
     "data": {
      "image/png": "[encoded data removed]",
      "text/plain": [
       "<Figure size 432x288 with 1 Axes>"
      ]
     },
     "metadata": {
      "needs_background": "light"
     },
     "output_type": "display_data"
    }
   ],
   "source": [
    "nb_words_sentences = []\n",
    "for sentence in lem_sentences :\n",
    "    words = nltk.word_tokenize(sentence)\n",
    "    nb_words_sentences.append(len(words))\n",
    "    \n",
    "distribution1 = nltk.FreqDist(nb_words_sentences)\n",
    "print(distribution1.most_common(10))\n",
    "\n",
    "plt.hist(nb_words_sentences, 50, facecolor='green')\n",
    "plt.show()"
   ]
  },
  {
   "cell_type": "code",
   "execution_count": 44,
   "metadata": {},
   "outputs": [
    {
     "name": "stdout",
     "output_type": "stream",
     "text": [
      "8629\n"
     ]
    }
   ],
   "source": [
    "print(len(lem_sentences))"
   ]
  },
  {
   "cell_type": "code",
   "execution_count": 45,
   "metadata": {},
   "outputs": [],
   "source": [
    "#lem_sentences = [sent for sent in lem_sentences if len(nltk.word_tokenize(sentence)) > 5]"
   ]
  },
  {
   "cell_type": "code",
   "execution_count": 46,
   "metadata": {},
   "outputs": [],
   "source": [
    "#print(len(lem_sentences))"
   ]
  },
  {
   "cell_type": "code",
   "execution_count": 47,
   "metadata": {},
   "outputs": [],
   "source": [
    "short_sent_list = []\n",
    "\n",
    "for sentence in lem_sentences :\n",
    "    words = nltk.word_tokenize(sentence)\n",
    "    if len(words) > 10 and len(words) < 15:\n",
    "        short_sent_list.append(sentence)\n",
    "        #print(sentence)"
   ]
  },
  {
   "cell_type": "code",
   "execution_count": 48,
   "metadata": {},
   "outputs": [
    {
     "name": "stdout",
     "output_type": "stream",
     "text": [
      "1368\n"
     ]
    }
   ],
   "source": [
    "print(len(short_sent_list))"
   ]
  },
  {
   "cell_type": "code",
   "execution_count": 49,
   "metadata": {},
   "outputs": [
    {
     "name": "stdout",
     "output_type": "stream",
     "text": [
      "8629\n"
     ]
    }
   ],
   "source": [
    "print(len(lem_sentences))"
   ]
  },
  {
   "cell_type": "markdown",
   "metadata": {},
   "source": [
    "clean up the sentences form the analysis of that. List of list or just a list?"
   ]
  },
  {
   "cell_type": "code",
   "execution_count": 50,
   "metadata": {},
   "outputs": [],
   "source": [
    "# all_sentences = []\n",
    "# for comment in comments_sentences :\n",
    "#     for sentence in comment :\n",
    "#         if len(sentence) > 20 and len(sentence) < 50:\n",
    "#             all_sentences.append(sentence)\n",
    "# print(len(all_sentences))"
   ]
  },
  {
   "cell_type": "code",
   "execution_count": 51,
   "metadata": {},
   "outputs": [],
   "source": [
    "# def filter_tokenize(comments) :\n",
    "#     #could add stemming\n",
    "#     comments_tokenized = []\n",
    "#     for comment in comments :\n",
    "#         tokenized = word_tokenize(comment)\n",
    "#         #filtered = [w.lower() for w in tokenized if not w.lower() in stop_words and w.isalpha()]\n",
    "#         #comments_tokenized.append(filtered)\n",
    "#     return (comments_tokenized)"
   ]
  },
  {
   "cell_type": "code",
   "execution_count": 52,
   "metadata": {},
   "outputs": [
    {
     "name": "stdout",
     "output_type": "stream",
     "text": [
      "8629\n"
     ]
    }
   ],
   "source": [
    "print(len(lem_sentences))"
   ]
  },
  {
   "cell_type": "code",
   "execution_count": 53,
   "metadata": {},
   "outputs": [],
   "source": [
    "#stop_words = set(stopwords.words(\"english\"))"
   ]
  },
  {
   "cell_type": "code",
   "execution_count": 54,
   "metadata": {},
   "outputs": [],
   "source": [
    "tfidf_vectorizer = TfidfVectorizer(max_df=0.8, max_features=1000,\n",
    "                                 min_df=0.005, stop_words=\"english\",\n",
    "                                 use_idf=True) #tokenizer=filter_tokenize, ngram_range=(1,3)\n",
    "\n",
    "#tfidf_matrix = tfidf_vectorizer.fit_transform(all_comments)\n",
    "#tfidf_matrix = tfidf_vectorizer.fit_transform(stemmed_sentences[0:1000])\n",
    "#tfidf_matrix = tfidf_vectorizer.fit_transform(lem_sentences) #lem_sentences[0:1000]\n",
    "\n",
    "tfidf_matrix = tfidf_vectorizer.fit_transform(short_sent_list[:500])"
   ]
  },
  {
   "cell_type": "code",
   "execution_count": 55,
   "metadata": {},
   "outputs": [
    {
     "name": "stdout",
     "output_type": "stream",
     "text": [
      "(500, 243)\n"
     ]
    }
   ],
   "source": [
    "print(tfidf_matrix.shape)"
   ]
  },
  {
   "cell_type": "code",
   "execution_count": 56,
   "metadata": {},
   "outputs": [
    {
     "name": "stdout",
     "output_type": "stream",
     "text": [
      "['10', '1000', '1080', '1080p', '1440p', '20', '300', '58', '700', '720', '750', '900', 'actually', 'ago', 'agree', 'amazing', 'android', 'apple', 'appreciate', 'awesome', 'bad', 'battery', 'baymax', 'beautiful', 'believe', 'best', 'better', 'bezel', 'big', 'bigger', 'bit', 'black', 'bought', 'brownlee', 'budget', 'button', 'buy', 'buying', 'ca', 'camera', 'care', 'case', 'cheap', 'cheaper', 'chin', 'choice', 'class', 'color', 'come', 'comment', 'company', 'compared', 'cost', 'crappy', 'currently', 'curved', 'damn', 'day', 'deal', 'design', 'device', 'did', 'display', 'doe', 'does', 'dollar', 'dont', 'economy', 'edge', 'end', 'essential', 'europe', 'expensive', 'extra', 'exynos', 'far', 'feature', 'feel', 'finger', 'fingerprint', 'fit', 'flagship', 'fucking', 'galaxy', 'gesture', 'getting', 'glass', 'going', 'gon', 'good', 'got', 'great', 'guy', 'ha', 'half', 'hand', 'handed', 'hate', 'having', 'help', 'hey', 'hide', 'high', 'hole', 'honestly', 'honor', 'huge', 'id', 'idiot', 'im', 'india', 'instead', 'iphone', 'issue', 'just', 'kearny', 'know', 'le', 'left', 'lens', 'life', 'like', 'little', 'live', 'll', 'lol', 'look', 'lot', 'love', 'main', 'make', 'man', 'marque', 'marques', 'mate', 'max', 'maybe', 'mean', 'mention', 'mid', 'midrange', 'miss', 'mkbhd', 'model', 'na', 'need', 'new', 'nice', 'notch', 'note', 'notification', 'paid', 'pay', 'people', 'perfect', 'performance', 'phone', 'photo', 'pink', 'pixel', 'plus', 'power', 'prefer', 'premium', 'price', 'print', 'pro', 'problem', 'protector', 'punch', 'quality', 'ram', 'range', 'reader', 'really', 'reason', 'redmi', 'released', 'resolution', 'review', 'right', 'robot', 's10', 's10e', 's8', 's9', 'said', 'samsung', 'say', 'scanner', 'screen', 'second', 'sensor', 'seriously', 'setting', 'shot', 'size', 'smaller', 'stand', 'stupid', 'sure', 'swipe', 'switch', 'talking', 'telephoto', 'tell', 'telling', 'term', 'thats', 'thing', 'think', 'thinking', 'thousand', 'thumb', 'time', 'touch', 'ultra', 'unlock', 'upgrade', 'use', 'used', 'using', 've', 'version', 'vid', 'video', 'wa', 'wait', 'wallpaper', 'want', 'wanted', 'watching', 'way', 'went', 'wish', 'wo', 'wonder', 'work', 'worth', 'wouldve', 'xr', 'xs', 'year']\n"
     ]
    }
   ],
   "source": [
    "terms = tfidf_vectorizer.get_feature_names()\n",
    "print(terms)"
   ]
  },
  {
   "cell_type": "code",
   "execution_count": 80,
   "metadata": {},
   "outputs": [],
   "source": [
    "from sklearn.metrics.pairwise import cosine_similarity\n",
    "dist = 1 - cosine_similarity(tfidf_matrix)"
   ]
  },
  {
   "cell_type": "code",
   "execution_count": 81,
   "metadata": {},
   "outputs": [],
   "source": [
    "from sklearn.cluster import KMeans\n",
    "\n",
    "num_clusters = 10\n",
    "km = KMeans(n_clusters=num_clusters)\n",
    "km.fit(tfidf_matrix)\n",
    "clusters = km.labels_.tolist()\n",
    "#print(clusters)"
   ]
  },
  {
   "cell_type": "code",
   "execution_count": 82,
   "metadata": {},
   "outputs": [],
   "source": [
    "import random\n",
    " \n",
    "def colors(n):\n",
    "  ret = []\n",
    "  r = int(random.random() * 256)\n",
    "  g = int(random.random() * 256)\n",
    "  b = int(random.random() * 256)\n",
    "  step = 256 / n\n",
    "  for i in range(n):\n",
    "    r += step\n",
    "    g += step\n",
    "    b += step\n",
    "    r = int(r) % 256\n",
    "    g = int(g) % 256\n",
    "    b = int(b) % 256\n",
    "    ret.append((r/255,g/255,b/255)) \n",
    "  return ret"
   ]
  },
  {
   "cell_type": "code",
   "execution_count": 83,
   "metadata": {},
   "outputs": [],
   "source": [
    "colors_list = colors(num_clusters)\n",
    "#print(colors_list)"
   ]
  },
  {
   "cell_type": "code",
   "execution_count": 84,
   "metadata": {},
   "outputs": [],
   "source": [
    "cluster_colors = {}\n",
    "i = 0\n",
    "for color in colors_list :\n",
    "    cluster_colors[i] = color\n",
    "    i +=1\n",
    "#print(cluster_colors)"
   ]
  },
  {
   "cell_type": "code",
   "execution_count": 85,
   "metadata": {},
   "outputs": [],
   "source": [
    "colors_list = colors(num_clusters)\n",
    "#print(colors_list)"
   ]
  },
  {
   "cell_type": "code",
   "execution_count": 86,
   "metadata": {},
   "outputs": [],
   "source": [
    "import os  # for os.path.basename\n",
    "\n",
    "import matplotlib.pyplot as plt\n",
    "import matplotlib as mpl\n",
    "\n",
    "from sklearn.manifold import MDS\n",
    "\n",
    "\n",
    "\n",
    "MDS()\n",
    "\n",
    "# two components as we're plotting points in a two-dimensional plane\n",
    "# \"precomputed\" because we provide a distance matrix\n",
    "# we will also specify `random_state` so the plot is reproducible.\n",
    "mds = MDS(n_components=2, dissimilarity=\"precomputed\", random_state=1)\n",
    "\n",
    "pos = mds.fit_transform(dist)  # shape (n_components, n_samples)\n",
    "\n",
    "xs, ys = pos[:, 0], pos[:, 1]\n",
    "df = pd.DataFrame(dict(x=xs, y=ys, label=clusters))"
   ]
  },
  {
   "cell_type": "code",
   "execution_count": 87,
   "metadata": {},
   "outputs": [
    {
     "name": "stdout",
     "output_type": "stream",
     "text": [
      "<pandas.core.groupby.generic.DataFrameGroupBy object at 0x12f110978>\n"
     ]
    },
    {
     "data": {
      "image/png": "[encoded data removed]",
      "text/plain": [
       "<Figure size 576x576 with 1 Axes>"
      ]
     },
     "metadata": {
      "needs_background": "light"
     },
     "output_type": "display_data"
    }
   ],
   "source": [
    "fig, ax = plt.subplots(figsize=(8, 8))\n",
    "groups = df.groupby('label')\n",
    "print(groups)\n",
    "for name, group in groups:\n",
    "    ax.plot(group.x, group.y, marker='o', linestyle='', ms=6, color=cluster_colors[name])#, mec='none'"
   ]
  },
  {
   "cell_type": "code",
   "execution_count": 160,
   "metadata": {},
   "outputs": [
    {
     "name": "stdout",
     "output_type": "stream",
     "text": [
      "s10e help exynos ca buy ha \n",
      "phone best good buy s10e just \n",
      "video make phone amazing s10 quality \n",
      "s10 camera screen plus curved wallpaper \n",
      "iphone just xr think ha chin \n",
      "samsung battery s10e life just did \n",
      "review hey marques love samsung like \n",
      "like love button camera phone really \n",
      "flagship price range finger wa use \n",
      "fingerprint reader sensor handed left notification \n"
     ]
    }
   ],
   "source": [
    "from sklearn.cluster import KMeans\n",
    "\n",
    "\n",
    "order_centroids = km.cluster_centers_.argsort()[:, ::-1]\n",
    "#print(order_centroids)\n",
    "\n",
    "for c in range(num_clusters):\n",
    "    for i in order_centroids[c, :6] :\n",
    "        print(terms[i], end = \" \")\n",
    "    print()"
   ]
  },
  {
   "cell_type": "code",
   "execution_count": 153,
   "metadata": {},
   "outputs": [
    {
     "name": "stdout",
     "output_type": "stream",
     "text": [
      "Items in cluster 0 : 34\n",
      "Items in cluster 1 : 68\n",
      "Items in cluster 2 : 28\n",
      "Items in cluster 3 : 57\n",
      "Items in cluster 4 : 57\n",
      "Items in cluster 5 : 42\n",
      "Items in cluster 6 : 14\n",
      "Items in cluster 7 : 31\n",
      "Items in cluster 8 : 140\n",
      "Items in cluster 9 : 29\n"
     ]
    }
   ],
   "source": [
    "grouped_clusters = []\n",
    "for i in range(num_clusters):\n",
    "    grouped = [cluster for cluster in clusters if cluster == i]\n",
    "    grouped_clusters.append(grouped)\n",
    "\n",
    "i = 0\n",
    "for cluster in grouped_clusters :\n",
    "    print(\"Items in cluster\", i, \":\", len(cluster))\n",
    "    i += 1"
   ]
  },
  {
   "cell_type": "code",
   "execution_count": 172,
   "metadata": {},
   "outputs": [
    {
     "name": "stdout",
     "output_type": "stream",
     "text": [
      "Cluster number : 0\n",
      "Words: s10e help exynos ca buy ha \n",
      "\n",
      "['Even the battery on S10e can hold longer than XS Max Whaddup', 'Overall I think the s10e would have been the one I would buy', \"I ca n't find any setting to remedy this any advice/help\"] \n",
      "\n",
      "\n",
      "Cluster number : 1\n",
      "Words: phone best good buy s10e just \n",
      "\n",
      "['I pay 700 $ for a phone that must be cheaper', 'We can all agree this phone is worth the money Sub 2 pdp', \"I need a new phone so what 's a good phone on Verizon\"] \n",
      "\n",
      "\n",
      "Cluster number : 2\n",
      "Words: video make phone amazing s10 quality \n",
      "\n",
      "['Hi Marques I really enjoy all your video kudos for you', \"Me rewinds video 3 time to make sure I 'm not going mad\", 'Bring back the versus video between two phone that you use to make'] \n",
      "\n",
      "\n",
      "Cluster number : 3\n",
      "Words: s10 camera screen plus curved wallpaper \n",
      "\n",
      "['Id get the s10 or s10+ if they were available on boost mobile', 'That big hero 6 wallpaper fit so well for the hole punch camera', '4.The s10 plus camera do not have original color a compared io .iphone x'] \n",
      "\n",
      "\n",
      "Cluster number : 4\n",
      "Words: iphone just xr think ha chin \n",
      "\n",
      "['Why doe it look better on Samsung compared to iphone when taking selfie', \"But could n't get it dang it.😶😑🙄😏😂 Their size is just per-fect😃\", 'Just wanted to say your audio ha been sounding a little bass heavy'] \n",
      "\n",
      "\n",
      "Cluster number : 5\n",
      "Words: samsung battery s10e life just did \n",
      "\n",
      "['I think it fine time Samsung stop putting premium price tag on outdated software', 'The price I got is equal to one high end Samsung phone', 'I like what Samsung did with the front camera compared to the Apple notch'] \n",
      "\n",
      "\n",
      "Cluster number : 6\n",
      "Words: review hey marques love samsung like \n",
      "\n",
      "['Also what these review are not telling you is connectivity issue with LTE', 'Just bought the S10e a per your review AND I love it', 'Your review are smooth and easy to grasp keep like that'] \n",
      "\n",
      "\n",
      "Cluster number : 7\n",
      "Words: like love button camera phone really \n",
      "\n",
      "['Marques like the flagship are like 9 hundred thousand dollar 1:13', 'Make a phone for people like u that dont use front camera', 'The reality still 3k just like the device from previous year'] \n",
      "\n",
      "\n",
      "Cluster number : 8\n",
      "Words: flagship price range finger wa use \n",
      "\n",
      "['is that a toothless the dragon from how to train your dragon hoodie', 'I miss the day were flagship were cost 700 $ nothing more', 'I m getting one tomorrow and I m wayyyy too exited man'] \n",
      "\n",
      "\n",
      "Cluster number : 9\n",
      "Words: fingerprint reader sensor handed left notification \n",
      "\n",
      "['for left handed people the fingerprint scanner is on the wrong side', 'I think the one hand fingerprint homebutton gesture doesnt work worldwide', 'I can not forgive you for not putting an in-display fingerprint scanner though'] \n",
      "\n",
      "\n"
     ]
    }
   ],
   "source": [
    "import collections\n",
    "\n",
    "\n",
    "comments_clusters = defaultdict(list)\n",
    "i = 0\n",
    "\n",
    "for cluster in clusters :\n",
    "    comments_clusters[cluster].append(short_sent_list[i])\n",
    "    i += 1\n",
    "\n",
    "for cluster in range (num_clusters) :\n",
    "    print(\"Cluster number :\", cluster)\n",
    "    print(\"Words:\", end=\" \")\n",
    "    for i in order_centroids[cluster, :6] :\n",
    "        print(terms[i], end = \" \")\n",
    "    print(\"\\n\")\n",
    "    print(comments_clusters[cluster][:3], \"\\n\\n\") #comments_clusters"
   ]
  },
  {
   "cell_type": "code",
   "execution_count": null,
   "metadata": {},
   "outputs": [],
   "source": []
  }
 ],
 "metadata": {
  "kernelspec": {
   "display_name": "Python 3",
   "language": "python",
   "name": "python3"
  },
  "language_info": {
   "codemirror_mode": {
    "name": "ipython",
    "version": 3
   },
   "file_extension": ".py",
   "mimetype": "text/x-python",
   "name": "python",
   "nbconvert_exporter": "python",
   "pygments_lexer": "ipython3",
   "version": "3.7.1"
  }
 },
 "nbformat": 4,
 "nbformat_minor": 2
}
